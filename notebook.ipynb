{
  "cells": [
    {
      "metadata": {
        "_uuid": "8f2839f25d086af736a60e9eeb907d3b93b6e0e5",
        "_cell_guid": "b1076dfc-b9ad-4769-8c92-a6c4dae69d19",
        "trusted": true,
        "collapsed": true
      },
      "cell_type": "code",
      "source": "# This Python 3 environment comes with many helpful analytics libraries installed\n# It is defined by the kaggle/python docker image: https://github.com/kaggle/docker-python\n# For example, here's several helpful packages to load in \n\nimport numpy as np # linear algebra\nimport pandas as pd # data processing, CSV file I/O (e.g. pd.read_csv)\n\n# Input data files are available in the \"../input/\" directory.\n# For example, running this (by clicking run or pressing Shift+Enter) will list the files in the input directory\n\n\ndata_train=pd.read_csv(\"../input/fashion-mnist_train.csv\")\ndata_test=pd.read_csv(\"../input/fashion-mnist_test.csv\")\nprint (\"train size: \",data_train.size, \"test data size: \",data_test.size)\n\nimport matplotlib.pyplot as plt\n%matplotlib inline\nfor i in range(5000,5005):\n    sample=np.reshape(data_test[data_test.columns[1:]].iloc[i].values/255,(28,28))\n    plt.figure()\n    plt.title(\"Labeled class : {}\".format(data_test[\"label\"].iloc[i]))\n    plt.imshow(sample, 'gray')\n\nfeatures=data_train[data_train.columns[1:]] \nlabels=data_train['label']\nimport tensorflow as tf\ninput_fn=tf.estimator.inputs.numpy_input_fn(\nx={\"pixels\":features.values/255},\ny=labels,\nbatch_size=100,\nnum_epochs=3,\nshuffle=True) \n\nfeature_columns=[tf.feature_column.numeric_column(\"pixels\",shape=784)]\n\n#LinearClassifier\nclassifier=tf.estimator.LinearClassifier(feature_columns=feature_columns,\n                                        n_classes=10,\n                                        model_dir=\"./models/linear1\")\n\nclassifier.train(input_fn=input_fn)\n\ntest_features=data_test[data_test.columns[1:]]\nlabels=data_test[\"label\"]\nevaluate_input_fn=tf.estimator.inputs.numpy_input_fn(x={\"pixels\": test_features.values/255},\n                                                      y= labels,\n                                                      batch_size=100,\n                                                    num_epochs=1,\n                                                   shuffle=False)\naccuracy=classifier.evaluate(input_fn=evaluate_input_fn)[\"accuracy\"]\nprint(\"accuracy: \",accuracy)\n\n#prediction\nfeatures=data_test[data_test.columns[1:]]\nlabels=data_test[\"label\"]\npredict_fn=tf.estimator.inputs.numpy_input_fn(x={\"pixels\":features.iloc[5000:5005].values/255},\n                                             batch_size=1,\n                                              num_epochs=1,\n                                              shuffle=False\n                                             )\npredictions=classifier.predict(input_fn=predict_fn)\n\nfor prediction in predictions:\n    print(\"Predictions: {} with probabilities {}\\n\".format(prediction[\"classes\"],prediction[\"probabilities\"]))\nprint(\"Expected labels: {}\".format(labels.iloc[5000:5005]))\n\n#visualizing\nclass_table = [\n    \"T-shirt/top\",\n    \"Trouser\",\n    \"Pullover\",\n    \"Dress\",\n    \"Coat\",\n    \"Sandal\",\n    \"Shirt\",\n    \"Sneaker\",\n    \"Bag\",\n    \"Ankle boot\"\n]\n\n\n\n\n",
      "execution_count": 1,
      "outputs": []
    },
    {
      "metadata": {
        "_cell_guid": "79c7e3d0-c299-4dcb-8224-4455121ee9b0",
        "_uuid": "d629ff2d2480ee46fbb7e2d37f6b5fab8052498a",
        "trusted": true,
        "collapsed": true
      },
      "cell_type": "code",
      "source": "def get_label_class(label):\n    return class_table[label]\n\nget_label_class(0)\n\nimport matplotlib.pyplot as plt\n%matplotlib inline\ndata_test=pd.read_csv(\"../input/fashion-mnist_test.csv\")\nfor i in range(5000,5005): \n    sample = np.reshape(data_test[data_test.columns[1:]].iloc[i].values/255, (28,28))\n    plt.figure()\n    plt.title(\"labeled class {}\".format(get_label_class(data_test[\"label\"].iloc[i])))\n    plt.imshow(sample, 'gray')\n    \n    ",
      "execution_count": 3,
      "outputs": []
    },
    {
      "metadata": {
        "trusted": true,
        "_uuid": "6821d8e0b07de013734aed7d364d6ef369c7aece",
        "collapsed": true
      },
      "cell_type": "code",
      "source": "#DNN Classifier\nDNN=tf.estimator.DNNClassifier(\nfeature_columns=[tf.feature_column.numeric_column(\"pixels\",shape=784)],\nhidden_units=[40,30,20],\nn_classes=10,\nmodel_dir=\"./models/deep1\")\ntrain_input_fn=tf.estimator.inputs.numpy_input_fn(x={\"pixels\": data_train[data_train.columns[1:]].values/255\n                                                    },\n                                                 y=data_train[\"label\"],\n                                                 batch_size=100,\n                                                 num_epochs=3,\n                                                 shuffle=True)\nDNN.train(input_fn=train_input_fn)\naccuracy=DNN.evaluate(input_fn=evaluate_input_fn)[\"accuracy\"]\nprint(\"accuarcy of DNN: \",accuracy)\n\n",
      "execution_count": 6,
      "outputs": []
    }
  ],
  "metadata": {
    "kernelspec": {
      "display_name": "Python 3",
      "language": "python",
      "name": "python3"
    },
    "language_info": {
      "name": "python",
      "version": "3.6.5",
      "mimetype": "text/x-python",
      "codemirror_mode": {
        "name": "ipython",
        "version": 3
      },
      "pygments_lexer": "ipython3",
      "nbconvert_exporter": "python",
      "file_extension": ".py"
    }
  },
  "nbformat": 4,
  "nbformat_minor": 1
}